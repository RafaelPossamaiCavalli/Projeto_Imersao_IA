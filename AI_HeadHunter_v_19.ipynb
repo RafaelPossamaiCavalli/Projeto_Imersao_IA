{
  "nbformat": 4,
  "nbformat_minor": 0,
  "metadata": {
    "colab": {
      "provenance": [],
      "mount_file_id": "19Ol9RYBXzh9FJHXxCdswg3jxOJexJRIr",
      "authorship_tag": "ABX9TyNioMpAEh2aIB1hgwbuJubD",
      "include_colab_link": true
    },
    "kernelspec": {
      "name": "python3",
      "display_name": "Python 3"
    },
    "language_info": {
      "name": "python"
    }
  },
  "cells": [
    {
      "cell_type": "markdown",
      "metadata": {
        "id": "view-in-github",
        "colab_type": "text"
      },
      "source": [
        "<a href=\"https://colab.research.google.com/github/RafaelPossamaiCavalli/Projeto_Imersao_IA/blob/main/AI_HeadHunter_v_19.ipynb\" target=\"_parent\"><img src=\"https://colab.research.google.com/assets/colab-badge.svg\" alt=\"Open In Colab\"/></a>"
      ]
    },
    {
      "cell_type": "code",
      "execution_count": null,
      "metadata": {
        "id": "ypY91Tw_88wp"
      },
      "outputs": [],
      "source": [
        "!pip install -q -U google-generativeai"
      ]
    },
    {
      "cell_type": "code",
      "source": [
        "!pip install generativeai"
      ],
      "metadata": {
        "id": "NOrTWkugncTB"
      },
      "execution_count": null,
      "outputs": []
    },
    {
      "cell_type": "code",
      "source": [
        "import pandas as pd\n",
        "from google.colab import drive\n",
        "import google.generativeai as genai\n",
        "from google.colab import userdata\n",
        "API_KEY = userdata.get('SECRET_KEY')\n",
        "\n",
        "# Configurar a chave de API do Google Generative AI\n",
        "GOOGLE_API_KEY = API_KEY\n",
        "genai.configure(api_key=GOOGLE_API_KEY)\n",
        "\n",
        "# Montar o Google Drive\n",
        "#drive.mount('/content/drive')\n",
        "\n",
        "# Caminho para o arquivo CSV no Google Drive\n",
        "caminho_arquivo = '/content/drive/My Drive/Candidatos.csv'\n",
        "\n",
        "# Ler o arquivo CSV usando pandas\n",
        "df = pd.read_csv(caminho_arquivo)\n",
        "\n",
        "# Função para consultar os melhores candidatos usando o Google Generative AI\n",
        "def consultar_melhores_candidatos_ai(df, vaga, num_candidatos=5):\n",
        "  \"\"\"\n",
        "  Consulta os melhores candidatos para uma vaga específica usando o Google Generative AI.\n",
        "\n",
        "  Args:\n",
        "    df: DataFrame com os dados dos candidatos.\n",
        "    vaga: Nome da vaga de emprego.\n",
        "    num_candidatos: Número de melhores candidatos a serem retornados.\n",
        "\n",
        "  Returns:\n",
        "    Lista com os nomes dos melhores candidatos.\n",
        "  \"\"\"\n",
        "\n",
        "  # Criar uma lista de prompts para cada candidato\n",
        "  prompts = []\n",
        "  for i in range(len(df)):\n",
        "    candidato = df.iloc[i]\n",
        "    prompt = f\"\"\"\n",
        "    Contexto: Você está ajudando um recrutador a encontrar o melhor candidato para a vaga de {vaga}.\n",
        "\n",
        "    Informações do Candidato:\n",
        "    Nome: {candidato['ALLName']}\n",
        "    Idade: {candidato['Y']}\n",
        "    Graduação: {candidato['graduation']}\n",
        "    Objetivo: {candidato['object']}\n",
        "    Experiências: {candidato['activities1']} {candidato['activities2']} {candidato['activities3']} {candidato['activities4']} {candidato['activities5']}\n",
        "    Habilidades: {candidato['C_H1']} {candidato['C_H2']} {candidato['C_H3']} {candidato['C_H4']} {candidato['C_H5']}\n",
        "\n",
        "    Pergunta: Quão bom é esse candidato para a vaga de {vaga}? Dê uma breve justificativa e forneça uma pontuação de 0 a 10, sendo 10 a melhor pontuação.\n",
        "    \"\"\"\n",
        "    prompts.append(prompt)\n",
        "\n",
        "  # Enviar as solicitações para a API e obter as pontuações\n",
        "  pontuacoes = []\n",
        "  for prompt in prompts:\n",
        "    # Extrair a pontuação da resposta (assumindo que a resposta termina com um número de 0 a 10)\n",
        "    try:\n",
        "      pontuacao = float(response.strip().split()[-1])\n",
        "    except:\n",
        "      pontuacao = 0.0  # Atribuir pontuação 0 se a extração falhar\n",
        "    pontuacoes.append(pontuacao)\n",
        "\n",
        "  # Criar um novo DataFrame com as pontuações\n",
        "  df_pontuacoes = pd.DataFrame({'ALLName': df['ALLName'], 'Pontuacao': pontuacoes})\n",
        "\n",
        "  # Ordenar o DataFrame pelas pontuações\n",
        "  df_pontuacoes_ordenado = df_pontuacoes.sort_values(by='Pontuacao', ascending=False)\n",
        "\n",
        "  # Retornar os nomes dos melhores candidatos\n",
        "  return df_pontuacoes_ordenado.head(num_candidatos)['ALLName'].tolist()\n",
        "\n",
        "# Exemplo de uso\n",
        "vaga = input(\"Digite o nome da vaga de emprego: \")\n",
        "melhores_candidatos = consultar_melhores_candidatos_ai(df, vaga)\n",
        "\n",
        "# Exibir os melhores candidatos\n",
        "print(f\"\\nOs {len(melhores_candidatos)} melhores candidatos para a vaga de {vaga} são:\\n\")\n",
        "for candidato in melhores_candidatos:\n",
        "  print(candidato)"
      ],
      "metadata": {
        "id": "Kb_TV26Qmfq2",
        "colab": {
          "base_uri": "https://localhost:8080/"
        },
        "outputId": "19050243-67e8-440d-fb6e-0c99ad5d075d"
      },
      "execution_count": 27,
      "outputs": [
        {
          "output_type": "stream",
          "name": "stdout",
          "text": [
            "Digite o nome da vaga de emprego: VENDEDOR\n",
            "\n",
            "Os 5 melhores candidatos para a vaga de VENDEDOR são:\n",
            "\n",
            "Larry Alexander Gómez Pérez \n",
            "Marinete Baia Matos \n",
            "Fernando Monteiro da Silva \n",
            "Poliana Custodia da Silva silvestre\n",
            "Maria Eduarda Zalevski Francisco \n"
          ]
        }
      ]
    }
  ]
}